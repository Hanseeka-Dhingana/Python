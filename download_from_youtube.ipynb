{
 "cells": [
  {
   "cell_type": "markdown",
   "id": "92bbc8aa",
   "metadata": {},
   "source": [
    "#### Only Download simple video from youtube"
   ]
  },
  {
   "cell_type": "code",
   "execution_count": null,
   "id": "ad294abf",
   "metadata": {},
   "outputs": [],
   "source": [
    "import yt_dlp\n",
    "\n",
    "video = \"video url\"\n",
    "\n",
    "\n",
    "ydl_opts = {\n",
    "    'outtmpl': '%(title)s.%(ext)s',     #title and extention of video\n",
    "    'format': 'best'  \n",
    "}\n",
    "\n",
    "with yt_dlp.YoutubeDL(ydl_opts) as ydl:\n",
    "    ydl.download([video])\n"
   ]
  },
  {
   "cell_type": "markdown",
   "id": "1c049749",
   "metadata": {},
   "source": [
    "#### Download full playlist"
   ]
  },
  {
   "cell_type": "code",
   "execution_count": null,
   "id": "4760f4af",
   "metadata": {},
   "outputs": [],
   "source": [
    "import yt_dlp\n",
    "\n",
    "playlist_url = \"https://www.youtube.com/playlist?list=PLxb4hNQEGfiRrCtAJoPY5TsGgYJM7MrI4\"\n",
    "\n",
    "ydl_opts = {\n",
    "    'outtmpl': '%(title)s.%(ext)s',\n",
    "    'format': 'best',\n",
    "    'retries': 10,              # Try 10 times if downloading fails\n",
    "    'fragment_retries': 10,\n",
    "    'socket_timeout': 30,       # Wait up to 30 seconds for a response from the server before timing out\n",
    "    'noplaylist': False,\n",
    "    'continuedl': True,         # Resume partially downloaded files\n",
    "    'quiet': False,\n",
    "    'verbose': True        \n",
    "}\n",
    "\n",
    "with yt_dlp.YoutubeDL(ydl_opts) as ydl:\n",
    "    ydl.download([playlist_url])\n",
    "\n"
   ]
  }
 ],
 "metadata": {
  "kernelspec": {
   "display_name": "Python 3",
   "language": "python",
   "name": "python3"
  },
  "language_info": {
   "codemirror_mode": {
    "name": "ipython",
    "version": 3
   },
   "file_extension": ".py",
   "mimetype": "text/x-python",
   "name": "python",
   "nbconvert_exporter": "python",
   "pygments_lexer": "ipython3",
   "version": "3.12.4"
  }
 },
 "nbformat": 4,
 "nbformat_minor": 5
}
